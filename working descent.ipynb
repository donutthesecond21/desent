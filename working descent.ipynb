{
 "cells": [
  {
   "cell_type": "code",
   "execution_count": 38,
   "metadata": {},
   "outputs": [
    {
     "name": "stdout",
     "output_type": "stream",
     "text": [
      "(3.9952379036473253, 0.8370476665069302)\n"
     ]
    },
    {
     "data": {
      "image/png": "[encoded data removed]",
      "text/plain": [
       "<Figure size 432x288 with 1 Axes>"
      ]
     },
     "metadata": {
      "needs_background": "light"
     },
     "output_type": "display_data"
    }
   ],
   "source": [
    "#C:\\Users\\amroa\\Documents\\data1.txt----> data_1\n",
    "#C:\\Users\\amroa\\Documents\\data2.txt----> data_2\n",
    "import matplotlib.pyplot as plt\n",
    "\n",
    "data_1=[] #x\n",
    "data_2=[] #y\n",
    "\n",
    "v=open(r'C:\\Users\\amroa\\Documents\\data1.txt','r')#data set for x-----> in order for the code to work u have to make 2 text files and put one here\n",
    "g=open(r'C:\\Users\\amroa\\Documents\\data2.txt','r')#data set for y-----> in order for the code to work u have to make 2 text files and put one here\n",
    "\n",
    "for l in v:\n",
    "    data_1.append(int(l))\n",
    "for l in g:\n",
    "    data_2.append(int(l))\n",
    "\n",
    "#assume a hypothesis h(x)= m + bx ( x is data_1)\n",
    "def hypothesis(m,b,i): # m = theta 1, b = theta 2, i = index of data value\n",
    "    return (m+(b*data_1[i]))\n",
    "\n",
    "def cost(m,b): # m and b are h(x)=m+bx\n",
    "    Sum = 0\n",
    "    for i in range(len(data_2)):\n",
    "        Sum = Sum + ((hypothesis(m, b, i) - data_2[i]) ** 2)\n",
    "    return ((1/(2*len(data_1)))*Sum)\n",
    "\n",
    "def Jm(m,b): #this is the partial derivative with respect to m\n",
    "    S = 0\n",
    "    for i in range(len(data_2)):\n",
    "        S = S + (hypothesis(m, b, i) - data_2[i])\n",
    "    return (S / (len(data_1)))\n",
    "\n",
    "def Jb(m,b): #this is the partial derivative with respect to b\n",
    "    S = 0\n",
    "    for i in range(len(data_2)):#\n",
    "        S = S + ((hypothesis(m, b, i) - data_2[i])*data_1[i])\n",
    "    return  (S/len(data_1))\n",
    "\n",
    "j=[]\n",
    "k=[]\n",
    "q=[]\n",
    "v=[]\n",
    "\n",
    "def grad_des(m,b,Learn): #Learn is the learning rate, h(x)=m+bx\n",
    "    z=m\n",
    "    x=b\n",
    "    tempz=0\n",
    "    tempx=0\n",
    "    for gg in range(1000000000000000):\n",
    "        tempz = z - Learn * (Jm(z,x))\n",
    "        tempx = x - Learn * (Jb(z, x))\n",
    "        z=tempz\n",
    "        x=tempx\n",
    "        j.append(Jm(z,x))\n",
    "        k.append(Jb(z,x))\n",
    "        q.append(z)\n",
    "        v.append(x)\n",
    "        if(abs(Jb(z, x))<0.001 and abs(Jm(z, x))<0.001):\n",
    "           break    \n",
    "    return z,x\n",
    "print(grad_des(1,0.25,0.001)) #1+x\n",
    "\n",
    "#remember the line(hypothesis) is m+b(data_1)\n",
    "\n",
    "plt.plot(j,label=\"partial of cost function with resect to m\")\n",
    "plt.plot(k,label=\"partial of cost function  with resect to b\")\n",
    "#plt.plot(q,label=\"m change over time\")\n",
    "#plt.plot(v,label=\"b change over time\")\n",
    "plt.legend()\n",
    "plt.show()"
   ]
  },
  {
   "cell_type": "code",
   "execution_count": null,
   "metadata": {},
   "outputs": [],
   "source": []
  },
  {
   "cell_type": "code",
   "execution_count": null,
   "metadata": {},
   "outputs": [],
   "source": []
  }
 ],
 "metadata": {
  "kernelspec": {
   "display_name": "Python 3",
   "language": "python",
   "name": "python3"
  },
  "language_info": {
   "codemirror_mode": {
    "name": "ipython",
    "version": 3
   },
   "file_extension": ".py",
   "mimetype": "text/x-python",
   "name": "python",
   "nbconvert_exporter": "python",
   "pygments_lexer": "ipython3",
   "version": "3.8.5"
  }
 },
 "nbformat": 4,
 "nbformat_minor": 4
}
